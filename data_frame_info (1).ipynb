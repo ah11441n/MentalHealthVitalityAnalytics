{
  "nbformat": 4,
  "nbformat_minor": 0,
  "metadata": {
    "colab": {
      "provenance": []
    },
    "kernelspec": {
      "name": "python3",
      "display_name": "Python 3"
    },
    "language_info": {
      "name": "python"
    }
  },
  "cells": [
    {
      "cell_type": "code",
      "execution_count": 1,
      "metadata": {
        "id": "pP4JJBlXjPLZ"
      },
      "outputs": [],
      "source": [
        "# importing required libraries\n",
        "import pandas as pd\n",
        "import numpy as np"
      ]
    },
    {
      "cell_type": "code",
      "source": [
        "# contect to drive\n",
        "import os\n",
        "from google.colab import drive\n",
        "drive.mount(\"/content/drive/\")"
      ],
      "metadata": {
        "colab": {
          "base_uri": "https://localhost:8080/"
        },
        "id": "W9Mww02skCcB",
        "outputId": "f25c5d1f-fc13-45ee-9ec2-27395d0e0c66"
      },
      "execution_count": 2,
      "outputs": [
        {
          "output_type": "stream",
          "name": "stdout",
          "text": [
            "Mounted at /content/drive/\n"
          ]
        }
      ]
    },
    {
      "cell_type": "code",
      "source": [
        "# Create a class named Information which performs some action related to data frame information\n",
        "class Information():\n",
        "  ''' This class takes dataframe and performs actions like get df information,\n",
        "   number of null values filled in each col, type of each column, and retuens dataframe'''\n",
        "  #  difining contructor which accepts df\n",
        "  def __init__(self, df):\n",
        "    try:\n",
        "      self.df = df\n",
        "    except ValueError:\n",
        "      print(\"Please provide dataframe only\")\n",
        "\n",
        "  def get_null_count(self):\n",
        "    '''This fuction returns null value count for each column in given dataframe'''\n",
        "    try :\n",
        "      column_names = list(self.df.columns)\n",
        "      null_values = list(self.df.isnull().sum().values)\n",
        "      ser = pd.Series(null_values,column_names)\n",
        "      null_dict = {}\n",
        "      for key, value in ser.items():\n",
        "        if value !=0:\n",
        "          null_dict[key] = value\n",
        "      return null_dict\n",
        "    except ValueError:\n",
        "      print(\"Please provide dataframe only\")\n",
        "    except TypeError:\n",
        "      print(\"Please provide dataframe only\")\n",
        "\n",
        "  def get_info(self):\n",
        "    '''This function prints information about given dataframe'''\n",
        "    try:\n",
        "      print(f\"Number of Rows : {len(self.df.index)}\", end='\\n\\n')\n",
        "      print(f\"{self.df.index}\", end =\"\\n\\n\")\n",
        "      print(f\"Number of columns :{len(self.df.columns)}\", end='\\n\\n')\n",
        "      print(f\"column Name : {np.array(self.df.columns)}\", end='\\n\\n')\n",
        "      print(\"Columns which has null values : \",self.get_null_count(), end='\\n\\n')\n",
        "    except ValueError:\n",
        "      print(\"Please provide dataframe only\")\n",
        "    except TypeError:\n",
        "      print(\"Please provide dataframe only\")\n",
        "\n",
        "  def get_type(self):\n",
        "    '''This fuction returns type of each column'''\n",
        "    try:\n",
        "      print(\"Type of each columns in dataframe :\")\n",
        "      print(self.df.dtypes)\n",
        "    except ValueError:\n",
        "      print(\"Please provide dataframe only\")\n",
        "    except TypeError:\n",
        "      print(\"Please provide dataframe only\")\n",
        "\n",
        "  def col_info(self):\n",
        "    ''' This fuction returns column name and value filled'''\n",
        "    try:\n",
        "      column_names = list(self.df.columns)\n",
        "      for col in column_names:\n",
        "        print(f'{col} : {self.df[col].unique()}', end='\\n')\n",
        "        print()\n",
        "    except ValueError:\n",
        "      print(\"Please provide dataframe only\")\n",
        "    except TypeError:\n",
        "      print(\"Please provide dataframe only\")\n",
        "\n",
        "  def get_df(self):\n",
        "    return self.df\n"
      ],
      "metadata": {
        "id": "PDpOCM5ojZ93"
      },
      "execution_count": 7,
      "outputs": []
    }
  ]
}